{
 "cells": [
  {
   "cell_type": "code",
   "execution_count": 2,
   "id": "ea72ca41",
   "metadata": {},
   "outputs": [],
   "source": [
    "import torch\n"
   ]
  },
  {
   "cell_type": "code",
   "execution_count": 6,
   "id": "0b3a8491",
   "metadata": {},
   "outputs": [],
   "source": [
    "import torch"
   ]
  },
  {
   "cell_type": "code",
   "execution_count": 17,
   "id": "67adf3f1",
   "metadata": {},
   "outputs": [
    {
     "data": {
      "text/plain": [
       "['you', 'can', 'now', 'install', 'torchtext', 'using', 'pip', '!']"
      ]
     },
     "execution_count": 17,
     "metadata": {},
     "output_type": "execute_result"
    }
   ],
   "source": [
    ">>> import torchtext\n",
    ">>> from torchtext.data import get_tokenizer\n",
    ">>> tokenizer = get_tokenizer(\"basic_english\")\n",
    ">>> tokens = tokenizer(\"You can now install TorchText using pip!\")\n",
    ">>> tokens\n",
    ">>> ['you', 'can', 'now', 'install', 'torchtext', 'using', 'pip', '!']"
   ]
  },
  {
   "cell_type": "code",
   "execution_count": null,
   "id": "50891094",
   "metadata": {},
   "outputs": [],
   "source": []
  }
 ],
 "metadata": {
  "kernelspec": {
   "display_name": "Python 3",
   "language": "python",
   "name": "python3"
  },
  "language_info": {
   "codemirror_mode": {
    "name": "ipython",
    "version": 3
   },
   "file_extension": ".py",
   "mimetype": "text/x-python",
   "name": "python",
   "nbconvert_exporter": "python",
   "pygments_lexer": "ipython3",
   "version": "3.8.8"
  }
 },
 "nbformat": 4,
 "nbformat_minor": 5
}
